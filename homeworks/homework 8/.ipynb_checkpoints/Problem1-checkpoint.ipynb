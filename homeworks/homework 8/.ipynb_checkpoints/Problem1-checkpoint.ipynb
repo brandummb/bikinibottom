{
 "cells": [
  {
   "cell_type": "code",
   "execution_count": 3,
   "id": "d02df1a5-aaf7-426b-a08f-ab3c17fd6e56",
   "metadata": {},
   "outputs": [],
   "source": [
    "import numpy as np\n",
    "import pandas as pd\n",
    "import matplotlib.pyplot as plt\n",
    "import math\n",
    "from scipy.optimize import curve_fit"
   ]
  },
  {
   "cell_type": "code",
   "execution_count": 4,
   "id": "c5ca63dd-cafa-44aa-b7ec-af407ca7b2fe",
   "metadata": {},
   "outputs": [
    {
     "data": {
      "text/html": [
       "<div>\n",
       "<style scoped>\n",
       "    .dataframe tbody tr th:only-of-type {\n",
       "        vertical-align: middle;\n",
       "    }\n",
       "\n",
       "    .dataframe tbody tr th {\n",
       "        vertical-align: top;\n",
       "    }\n",
       "\n",
       "    .dataframe thead th {\n",
       "        text-align: right;\n",
       "    }\n",
       "</style>\n",
       "<table border=\"1\" class=\"dataframe\">\n",
       "  <thead>\n",
       "    <tr style=\"text-align: right;\">\n",
       "      <th></th>\n",
       "      <th>dt</th>\n",
       "      <th>AverageTemperature</th>\n",
       "      <th>State</th>\n",
       "    </tr>\n",
       "  </thead>\n",
       "  <tbody>\n",
       "    <tr>\n",
       "      <th>350761</th>\n",
       "      <td>2000-01-01</td>\n",
       "      <td>-2.024</td>\n",
       "      <td>Nebraska</td>\n",
       "    </tr>\n",
       "    <tr>\n",
       "      <th>350762</th>\n",
       "      <td>2000-02-01</td>\n",
       "      <td>1.719</td>\n",
       "      <td>Nebraska</td>\n",
       "    </tr>\n",
       "    <tr>\n",
       "      <th>350763</th>\n",
       "      <td>2000-03-01</td>\n",
       "      <td>5.687</td>\n",
       "      <td>Nebraska</td>\n",
       "    </tr>\n",
       "    <tr>\n",
       "      <th>350764</th>\n",
       "      <td>2000-04-01</td>\n",
       "      <td>9.417</td>\n",
       "      <td>Nebraska</td>\n",
       "    </tr>\n",
       "    <tr>\n",
       "      <th>350765</th>\n",
       "      <td>2000-05-01</td>\n",
       "      <td>16.827</td>\n",
       "      <td>Nebraska</td>\n",
       "    </tr>\n",
       "    <tr>\n",
       "      <th>...</th>\n",
       "      <td>...</td>\n",
       "      <td>...</td>\n",
       "      <td>...</td>\n",
       "    </tr>\n",
       "    <tr>\n",
       "      <th>626435</th>\n",
       "      <td>2013-05-01</td>\n",
       "      <td>10.607</td>\n",
       "      <td>Wyoming</td>\n",
       "    </tr>\n",
       "    <tr>\n",
       "      <th>626436</th>\n",
       "      <td>2013-06-01</td>\n",
       "      <td>16.267</td>\n",
       "      <td>Wyoming</td>\n",
       "    </tr>\n",
       "    <tr>\n",
       "      <th>626437</th>\n",
       "      <td>2013-07-01</td>\n",
       "      <td>20.222</td>\n",
       "      <td>Wyoming</td>\n",
       "    </tr>\n",
       "    <tr>\n",
       "      <th>626438</th>\n",
       "      <td>2013-08-01</td>\n",
       "      <td>19.621</td>\n",
       "      <td>Wyoming</td>\n",
       "    </tr>\n",
       "    <tr>\n",
       "      <th>626439</th>\n",
       "      <td>2013-09-01</td>\n",
       "      <td>15.811</td>\n",
       "      <td>Wyoming</td>\n",
       "    </tr>\n",
       "  </tbody>\n",
       "</table>\n",
       "<p>495 rows × 3 columns</p>\n",
       "</div>"
      ],
      "text/plain": [
       "                dt  AverageTemperature     State\n",
       "350761  2000-01-01              -2.024  Nebraska\n",
       "350762  2000-02-01               1.719  Nebraska\n",
       "350763  2000-03-01               5.687  Nebraska\n",
       "350764  2000-04-01               9.417  Nebraska\n",
       "350765  2000-05-01              16.827  Nebraska\n",
       "...            ...                 ...       ...\n",
       "626435  2013-05-01              10.607   Wyoming\n",
       "626436  2013-06-01              16.267   Wyoming\n",
       "626437  2013-07-01              20.222   Wyoming\n",
       "626438  2013-08-01              19.621   Wyoming\n",
       "626439  2013-09-01              15.811   Wyoming\n",
       "\n",
       "[495 rows x 3 columns]"
      ]
     },
     "metadata": {},
     "output_type": "display_data"
    }
   ],
   "source": [
    "#1A\n",
    "#reading csv\n",
    "df = pd.read_csv('/Users/brandummb/Downloads/GlobalLandTemperaturesByState.csv')\n",
    "\n",
    "#isolated columns:\n",
    "df1 = df[[\"dt\", \"AverageTemperature\", \"State\"]]\n",
    "\n",
    "#sorting for years after 2000:\n",
    "df2 = df1.loc[df1['dt'].str[:4].astype(int) >= 2000]\n",
    "\n",
    "#sorting for Wyoming, Nebraska, South Dakota:\n",
    "states = ['Wyoming', 'Nebraska', 'South Dakota']\n",
    "df3 = df2[df2['State'].isin(states)]\n",
    "display(df3)\n",
    "\n",
    "#can confirm that df3 has 495 rows and 3 columns\n",
    "\n"
   ]
  },
  {
   "cell_type": "code",
   "execution_count": 5,
   "id": "2828f65f-2afe-4cec-8247-d10f5e546f58",
   "metadata": {},
   "outputs": [
    {
     "data": {
      "text/html": [
       "<div>\n",
       "<style scoped>\n",
       "    .dataframe tbody tr th:only-of-type {\n",
       "        vertical-align: middle;\n",
       "    }\n",
       "\n",
       "    .dataframe tbody tr th {\n",
       "        vertical-align: top;\n",
       "    }\n",
       "\n",
       "    .dataframe thead th {\n",
       "        text-align: right;\n",
       "    }\n",
       "</style>\n",
       "<table border=\"1\" class=\"dataframe\">\n",
       "  <thead>\n",
       "    <tr style=\"text-align: right;\">\n",
       "      <th></th>\n",
       "      <th>dt</th>\n",
       "      <th>AverageTemperature</th>\n",
       "    </tr>\n",
       "  </thead>\n",
       "  <tbody>\n",
       "    <tr>\n",
       "      <th>0</th>\n",
       "      <td>2000-01-01</td>\n",
       "      <td>-4.072000</td>\n",
       "    </tr>\n",
       "    <tr>\n",
       "      <th>1</th>\n",
       "      <td>2000-02-01</td>\n",
       "      <td>-0.205000</td>\n",
       "    </tr>\n",
       "    <tr>\n",
       "      <th>2</th>\n",
       "      <td>2000-03-01</td>\n",
       "      <td>3.642667</td>\n",
       "    </tr>\n",
       "    <tr>\n",
       "      <th>3</th>\n",
       "      <td>2000-04-01</td>\n",
       "      <td>7.609667</td>\n",
       "    </tr>\n",
       "    <tr>\n",
       "      <th>4</th>\n",
       "      <td>2000-05-01</td>\n",
       "      <td>14.255000</td>\n",
       "    </tr>\n",
       "    <tr>\n",
       "      <th>...</th>\n",
       "      <td>...</td>\n",
       "      <td>...</td>\n",
       "    </tr>\n",
       "    <tr>\n",
       "      <th>160</th>\n",
       "      <td>2013-05-01</td>\n",
       "      <td>13.196000</td>\n",
       "    </tr>\n",
       "    <tr>\n",
       "      <th>161</th>\n",
       "      <td>2013-06-01</td>\n",
       "      <td>18.783667</td>\n",
       "    </tr>\n",
       "    <tr>\n",
       "      <th>162</th>\n",
       "      <td>2013-07-01</td>\n",
       "      <td>22.110333</td>\n",
       "    </tr>\n",
       "    <tr>\n",
       "      <th>163</th>\n",
       "      <td>2013-08-01</td>\n",
       "      <td>21.890000</td>\n",
       "    </tr>\n",
       "    <tr>\n",
       "      <th>164</th>\n",
       "      <td>2013-09-01</td>\n",
       "      <td>18.953000</td>\n",
       "    </tr>\n",
       "  </tbody>\n",
       "</table>\n",
       "<p>165 rows × 2 columns</p>\n",
       "</div>"
      ],
      "text/plain": [
       "             dt  AverageTemperature\n",
       "0    2000-01-01           -4.072000\n",
       "1    2000-02-01           -0.205000\n",
       "2    2000-03-01            3.642667\n",
       "3    2000-04-01            7.609667\n",
       "4    2000-05-01           14.255000\n",
       "..          ...                 ...\n",
       "160  2013-05-01           13.196000\n",
       "161  2013-06-01           18.783667\n",
       "162  2013-07-01           22.110333\n",
       "163  2013-08-01           21.890000\n",
       "164  2013-09-01           18.953000\n",
       "\n",
       "[165 rows x 2 columns]"
      ]
     },
     "metadata": {},
     "output_type": "display_data"
    }
   ],
   "source": [
    "#1B\n",
    "#group by 'dt', averaging the temperatures, followed by reseting the table to the new columns\n",
    "avgtemp_df = df3.groupby('dt')['AverageTemperature'].mean().reset_index()\n",
    "display(avgtemp_df)"
   ]
  },
  {
   "cell_type": "code",
   "execution_count": 6,
   "id": "8386462c-128d-4b83-b447-2fbcc903b3ec",
   "metadata": {},
   "outputs": [
    {
     "data": {
      "image/png": "[encoded data removed]",
      "text/plain": [
       "<Figure size 500x100 with 1 Axes>"
      ]
     },
     "metadata": {},
     "output_type": "display_data"
    }
   ],
   "source": [
    "#1C\n",
    "\n",
    "avgtemp_df.plot.scatter(x='dt', y='AverageTemperature', color='red', figsize=(5,1))\n",
    "plt.title('Average Temperature in WY, ND, and NE since 2000')\n",
    "plt.xlabel('Date')\n",
    "plt.ylabel('Average Temperature')\n",
    "plt.show()"
   ]
  },
  {
   "cell_type": "code",
   "execution_count": 7,
   "id": "49aa89cd-264f-423f-97fb-94c91879e490",
   "metadata": {},
   "outputs": [
    {
     "data": {
      "text/html": [
       "<div>\n",
       "<style scoped>\n",
       "    .dataframe tbody tr th:only-of-type {\n",
       "        vertical-align: middle;\n",
       "    }\n",
       "\n",
       "    .dataframe tbody tr th {\n",
       "        vertical-align: top;\n",
       "    }\n",
       "\n",
       "    .dataframe thead th {\n",
       "        text-align: right;\n",
       "    }\n",
       "</style>\n",
       "<table border=\"1\" class=\"dataframe\">\n",
       "  <thead>\n",
       "    <tr style=\"text-align: right;\">\n",
       "      <th></th>\n",
       "      <th>dt</th>\n",
       "      <th>AverageTemperature</th>\n",
       "    </tr>\n",
       "  </thead>\n",
       "  <tbody>\n",
       "    <tr>\n",
       "      <th>0</th>\n",
       "      <td>0</td>\n",
       "      <td>-4.072000</td>\n",
       "    </tr>\n",
       "    <tr>\n",
       "      <th>1</th>\n",
       "      <td>30</td>\n",
       "      <td>-0.205000</td>\n",
       "    </tr>\n",
       "    <tr>\n",
       "      <th>2</th>\n",
       "      <td>60</td>\n",
       "      <td>3.642667</td>\n",
       "    </tr>\n",
       "    <tr>\n",
       "      <th>3</th>\n",
       "      <td>90</td>\n",
       "      <td>7.609667</td>\n",
       "    </tr>\n",
       "    <tr>\n",
       "      <th>4</th>\n",
       "      <td>120</td>\n",
       "      <td>14.255000</td>\n",
       "    </tr>\n",
       "    <tr>\n",
       "      <th>...</th>\n",
       "      <td>...</td>\n",
       "      <td>...</td>\n",
       "    </tr>\n",
       "    <tr>\n",
       "      <th>160</th>\n",
       "      <td>4865</td>\n",
       "      <td>13.196000</td>\n",
       "    </tr>\n",
       "    <tr>\n",
       "      <th>161</th>\n",
       "      <td>4895</td>\n",
       "      <td>18.783667</td>\n",
       "    </tr>\n",
       "    <tr>\n",
       "      <th>162</th>\n",
       "      <td>4925</td>\n",
       "      <td>22.110333</td>\n",
       "    </tr>\n",
       "    <tr>\n",
       "      <th>163</th>\n",
       "      <td>4955</td>\n",
       "      <td>21.890000</td>\n",
       "    </tr>\n",
       "    <tr>\n",
       "      <th>164</th>\n",
       "      <td>4985</td>\n",
       "      <td>18.953000</td>\n",
       "    </tr>\n",
       "  </tbody>\n",
       "</table>\n",
       "<p>165 rows × 2 columns</p>\n",
       "</div>"
      ],
      "text/plain": [
       "       dt  AverageTemperature\n",
       "0       0           -4.072000\n",
       "1      30           -0.205000\n",
       "2      60            3.642667\n",
       "3      90            7.609667\n",
       "4     120           14.255000\n",
       "..    ...                 ...\n",
       "160  4865           13.196000\n",
       "161  4895           18.783667\n",
       "162  4925           22.110333\n",
       "163  4955           21.890000\n",
       "164  4985           18.953000\n",
       "\n",
       "[165 rows x 2 columns]"
      ]
     },
     "metadata": {},
     "output_type": "display_data"
    }
   ],
   "source": [
    "avgtemp_df = df3.groupby('dt')['AverageTemperature'].mean().reset_index()\n",
    "#1D\n",
    "avgtemp_df[['year', 'month', 'day']] = avgtemp_df['dt'].apply(lambda x: pd.Series(x.split('-')).astype(int))\n",
    "avgtemp_df['dt'] = ((avgtemp_df['month'] - 1) * 30) + ((avgtemp_df['year'] - 2000) * 365)\n",
    "avgtemp_df = avgtemp_df.drop(columns = ['year', 'month', 'day'])\n",
    "display(avgtemp_df)"
   ]
  },
  {
   "cell_type": "code",
   "execution_count": 13,
   "id": "4f6f103e-736c-46ee-924d-8338afffe8e3",
   "metadata": {},
   "outputs": [],
   "source": [
    "#1E\n",
    "\n",
    "#Model Equation:\n",
    "def model_func(x, A, F, T):\n",
    "    return A * (np.sin(F * x)) + T\n",
    "#Initial Guesses:\n",
    "a0 = 17\n",
    "f0 = 2*(np.pi)/365 # = 0.0172\n",
    "t0 = -4.072\n",
    "my_array = [a0, f0, t0]"
   ]
  },
  {
   "cell_type": "code",
   "execution_count": 14,
   "id": "d52255e1-e9f9-4b6c-af34-be2e7b56ce97",
   "metadata": {},
   "outputs": [
    {
     "name": "stdout",
     "output_type": "stream",
     "text": [
      "[10.0459842   0.01674085  7.94972668]\n",
      "[[ 6.34765359e-01 -2.73720413e-08 -1.76160191e-02]\n",
      " [-2.73720413e-08  7.62444911e-10 -4.76069357e-07]\n",
      " [-1.76160191e-02 -4.76069357e-07  3.16785343e-01]]\n"
     ]
    }
   ],
   "source": [
    "#1F\n",
    "\n",
    "x_data = avgtemp_df['dt']\n",
    "y_data = avgtemp_df['AverageTemperature']\n",
    "popt, pcov = curve_fit(model_func, x_data, y_data, p0=my_array)\n",
    "print(popt)\n",
    "print(pcov)"
   ]
  },
  {
   "cell_type": "code",
   "execution_count": 10,
   "id": "1ab9a697-283d-4084-96bb-c02a22d24309",
   "metadata": {},
   "outputs": [
    {
     "data": {
      "text/plain": [
       "[<matplotlib.lines.Line2D at 0x14d0bb5d0>]"
      ]
     },
     "execution_count": 10,
     "metadata": {},
     "output_type": "execute_result"
    },
    {
     "data": {
      "image/png": "[encoded data removed]",
      "text/plain": [
       "<Figure size 500x100 with 1 Axes>"
      ]
     },
     "metadata": {},
     "output_type": "display_data"
    }
   ],
   "source": [
    "#1G\n",
    "\n",
    "#replot the data\n",
    "avgtemp_df.plot.scatter(x='dt', y='AverageTemperature', color='red', figsize=(5,1))\n",
    "plt.title('Average Temperature in WY, ND, and NE since 2000')\n",
    "plt.xlabel('Days Since 2000')\n",
    "plt.ylabel('Average Temperature')\n",
    "\n",
    "#graph best fit curve\n",
    "x_values = np.linspace(min(x_data), max(x_data), 100)  # Generating x-values for the fitted curve\n",
    "fitted_curve = model_func(x_values, *popt)\n",
    "plt.plot(x_values, fitted_curve, 'r-', label='Fitted curve')"
   ]
  },
  {
   "cell_type": "code",
   "execution_count": 11,
   "id": "6f65d67f-e05f-4223-9314-60521d316d56",
   "metadata": {},
   "outputs": [],
   "source": [
    "#1H\n",
    "\n",
    "A_error = math.sqrt(pcov[0,0])\n",
    "F_error = math.sqrt(pcov[1,1])\n",
    "T_error = math.sqrt(pcov[2,2])"
   ]
  },
  {
   "cell_type": "code",
   "execution_count": 12,
   "id": "854a5283-1496-4989-b7cf-69d395a99f9d",
   "metadata": {},
   "outputs": [
    {
     "name": "stdout",
     "output_type": "stream",
     "text": [
      "Amplitude: 10.045984200167528 +/- 0.7967216320488396\n",
      "Frequency: 0.016740850411009024 +/- 2.761240502050013e-05\n",
      "Initial_Temp: 7.9497266773529605 +/- 0.5628368710357882\n"
     ]
    }
   ],
   "source": [
    "#1I\n",
    "\n",
    "print('Amplitude: ' + str(popt[0]) + ' +/- ' + str(A_error))\n",
    "print('Frequency: ' + str(popt[1]) + ' +/- ' + str(F_error))\n",
    "print('Initial_Temp: ' + str(popt[2]) + ' +/- ' + str(T_error))"
   ]
  },
  {
   "cell_type": "code",
   "execution_count": null,
   "id": "daa35a50-a0e0-429d-adf3-ed46f6b1987e",
   "metadata": {},
   "outputs": [],
   "source": []
  },
  {
   "cell_type": "code",
   "execution_count": null,
   "id": "1b8d07f2-8da8-48dc-bf1d-183a5a3bba08",
   "metadata": {},
   "outputs": [],
   "source": []
  }
 ],
 "metadata": {
  "kernelspec": {
   "display_name": "Python 3 (ipykernel)",
   "language": "python",
   "name": "python3"
  },
  "language_info": {
   "codemirror_mode": {
    "name": "ipython",
    "version": 3
   },
   "file_extension": ".py",
   "mimetype": "text/x-python",
   "name": "python",
   "nbconvert_exporter": "python",
   "pygments_lexer": "ipython3",
   "version": "3.11.7"
  }
 },
 "nbformat": 4,
 "nbformat_minor": 5
}
