{
 "cells": [
  {
   "cell_type": "code",
   "execution_count": 3,
   "id": "8021a98b-7ec2-474e-add8-119ee7c8a5c5",
   "metadata": {},
   "outputs": [
    {
     "name": "stdout",
     "output_type": "stream",
     "text": [
      "[array([1, 1, 1]), array([2, 2, 2])]\n"
     ]
    }
   ],
   "source": [
    "import numpy as np\n",
    "\n",
    "def findEqual(arr):\n",
    "    equalrows = []\n",
    "    for row in arr:\n",
    "        if all(element == row[0] for element in row):\n",
    "            equalrows.append(row)\n",
    "    print(equalrows)\n",
    "\n",
    "arr = np.array([[1, 1, 1,], [1, 2, 3,], [2, 2, 2]])\n",
    "findEqual(arr)"
   ]
  },
  {
   "cell_type": "code",
   "execution_count": null,
   "id": "ac06f2a2-c077-481a-bc62-a23426452d7d",
   "metadata": {},
   "outputs": [],
   "source": []
  }
 ],
 "metadata": {
  "kernelspec": {
   "display_name": "Python 3 (ipykernel)",
   "language": "python",
   "name": "python3"
  },
  "language_info": {
   "codemirror_mode": {
    "name": "ipython",
    "version": 3
   },
   "file_extension": ".py",
   "mimetype": "text/x-python",
   "name": "python",
   "nbconvert_exporter": "python",
   "pygments_lexer": "ipython3",
   "version": "3.12.2"
  }
 },
 "nbformat": 4,
 "nbformat_minor": 5
}
