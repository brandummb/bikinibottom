{
 "cells": [
  {
   "cell_type": "code",
   "execution_count": 22,
   "id": "285173a8-8658-40b5-8fcf-ea106be6ead6",
   "metadata": {},
   "outputs": [
    {
     "name": "stdout",
     "output_type": "stream",
     "text": [
      "[[1 0 1 0 1 0 1 0]\n",
      " [0 1 0 1 0 1 0 1]\n",
      " [1 0 1 0 1 0 1 0]\n",
      " [0 1 0 1 0 1 0 1]\n",
      " [1 0 1 0 1 0 1 0]\n",
      " [0 1 0 1 0 1 0 1]\n",
      " [1 0 1 0 1 0 1 0]\n",
      " [0 1 0 1 0 1 0 1]]\n"
     ]
    }
   ],
   "source": [
    "import numpy as np\n",
    "\n",
    "def checkerboard():\n",
    "    checkerboard = np.zeros((8, 8), dtype=int)\n",
    "    checkerboard[1:8:2, 1:8:2] = 1\n",
    "    checkerboard[0:8:2, 0:8:2] = 1\n",
    "    print(checkerboard)\n",
    "\n",
    "checkerboard()"
   ]
  },
  {
   "cell_type": "code",
   "execution_count": null,
   "id": "f1cde427-ad72-43fd-a7ba-8d8f434cf9ce",
   "metadata": {},
   "outputs": [],
   "source": []
  }
 ],
 "metadata": {
  "kernelspec": {
   "display_name": "Python 3 (ipykernel)",
   "language": "python",
   "name": "python3"
  },
  "language_info": {
   "codemirror_mode": {
    "name": "ipython",
    "version": 3
   },
   "file_extension": ".py",
   "mimetype": "text/x-python",
   "name": "python",
   "nbconvert_exporter": "python",
   "pygments_lexer": "ipython3",
   "version": "3.12.2"
  }
 },
 "nbformat": 4,
 "nbformat_minor": 5
}
