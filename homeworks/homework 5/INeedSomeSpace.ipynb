{
 "cells": [
  {
   "cell_type": "code",
   "execution_count": 3,
   "id": "445a7134-22d8-4cb7-97d8-3d78dccf750f",
   "metadata": {},
   "outputs": [
    {
     "name": "stdout",
     "output_type": "stream",
     "text": [
      "['p y t h o n' 'i s' 'c o o l !']\n"
     ]
    }
   ],
   "source": [
    "import numpy as np\n",
    "def spaceBetween(arr):\n",
    "    spaceBetweenArr = np.array([' '.join(list(word)) for word in myarr], dtype='object')\n",
    "    print(spaceBetweenArr)\n",
    "\n",
    "myarr = ['python', 'is', 'cool!']\n",
    "spaceBetween(myarr)"
   ]
  },
  {
   "cell_type": "code",
   "execution_count": null,
   "id": "f18922fc-fd98-4f7c-8ec4-ccd3a5799864",
   "metadata": {},
   "outputs": [],
   "source": []
  }
 ],
 "metadata": {
  "kernelspec": {
   "display_name": "Python 3 (ipykernel)",
   "language": "python",
   "name": "python3"
  },
  "language_info": {
   "codemirror_mode": {
    "name": "ipython",
    "version": 3
   },
   "file_extension": ".py",
   "mimetype": "text/x-python",
   "name": "python",
   "nbconvert_exporter": "python",
   "pygments_lexer": "ipython3",
   "version": "3.12.2"
  }
 },
 "nbformat": 4,
 "nbformat_minor": 5
}
