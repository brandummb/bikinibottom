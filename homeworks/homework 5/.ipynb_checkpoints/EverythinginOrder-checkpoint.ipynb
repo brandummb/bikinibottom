{
 "cells": [
  {
   "cell_type": "code",
   "execution_count": 9,
   "id": "14718706-c195-4c55-ae38-e7338a95224b",
   "metadata": {},
   "outputs": [
    {
     "name": "stdout",
     "output_type": "stream",
     "text": [
      "[[12 14 11  2  2]\n",
      " [15 38 28 17 10]\n",
      " [35 38 30 18 19]\n",
      " [42 42 35 30 37]]\n"
     ]
    }
   ],
   "source": [
    "import numpy as np\n",
    "def sorting(a):\n",
    "    rows, cols = a.shape\n",
    "    for col in range(0, cols):\n",
    "        for i in range(rows - 1):\n",
    "            for j in range(0, rows - i - 1):\n",
    "                if a[j, col] > a[j + 1, col]:\n",
    "                    a[j, col], a[j + 1, col] = a[j + 1, col], a[j, col]\n",
    "    print(a)\n",
    "\n",
    "np.random.seed(12345)\n",
    "a = np.random.randint(1,50, (4,5))\n",
    "sorting(a)\n"
   ]
  },
  {
   "cell_type": "code",
   "execution_count": null,
   "id": "e3169366-4ed2-4767-b124-080029baa4a1",
   "metadata": {},
   "outputs": [],
   "source": []
  }
 ],
 "metadata": {
  "kernelspec": {
   "display_name": "Python 3 (ipykernel)",
   "language": "python",
   "name": "python3"
  },
  "language_info": {
   "codemirror_mode": {
    "name": "ipython",
    "version": 3
   },
   "file_extension": ".py",
   "mimetype": "text/x-python",
   "name": "python",
   "nbconvert_exporter": "python",
   "pygments_lexer": "ipython3",
   "version": "3.12.2"
  }
 },
 "nbformat": 4,
 "nbformat_minor": 5
}
